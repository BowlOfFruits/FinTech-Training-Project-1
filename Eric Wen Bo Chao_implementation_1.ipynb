{
  "nbformat": 4,
  "nbformat_minor": 0,
  "metadata": {
    "colab": {
      "provenance": [],
      "collapsed_sections": []
    },
    "kernelspec": {
      "name": "python3",
      "display_name": "Python 3"
    },
    "language_info": {
      "name": "python"
    }
  },
  "cells": [
    {
      "cell_type": "code",
      "execution_count": 32,
      "metadata": {
        "id": "cKn_-3t5dXc2"
      },
      "outputs": [],
      "source": [
        "#importing all libraries\n",
        "import pandas as pd\n",
        "import numpy as np\n",
        "import os\n",
        "import matplotlib.pyplot as plt\n",
        "from sklearn.preprocessing import MinMaxScaler"
      ]
    },
    {
      "cell_type": "markdown",
      "source": [
        "Model chosen: LSTM\n",
        "Reason: \n",
        "\n"
      ],
      "metadata": {
        "id": "DYbEhwZ7xodh"
      }
    },
    {
      "cell_type": "code",
      "source": [
        "#reading nvda dataset\n",
        "NVDA_df = pd.read_csv(\"NVDA.csv\")"
      ],
      "metadata": {
        "id": "_2vCcXGpdsCe"
      },
      "execution_count": 33,
      "outputs": []
    },
    {
      "cell_type": "code",
      "source": [
        "NVDA_df.head()\n"
      ],
      "metadata": {
        "colab": {
          "base_uri": "https://localhost:8080/",
          "height": 206
        },
        "id": "EdVGJ_dUd_Vj",
        "outputId": "5b834b82-e424-46e5-86fa-ca012dbefb5d"
      },
      "execution_count": 34,
      "outputs": [
        {
          "output_type": "execute_result",
          "data": {
            "text/plain": [
              "         Date       Open       High        Low      Close  Adj Close    Volume\n",
              "0  2019-10-18  48.577499  48.904999  46.875000  47.622501  47.435326  30744000\n",
              "1  2019-10-21  48.240002  49.137501  48.049999  49.002499  48.809891  26186800\n",
              "2  2019-10-22  49.575001  50.632500  48.825001  48.902500  48.710289  32872000\n",
              "3  2019-10-23  48.077499  48.915001  47.757500  48.772499  48.580807  27991600\n",
              "4  2019-10-24  49.187500  49.552502  48.845001  49.215000  49.021557  23202000"
            ],
            "text/html": [
              "\n",
              "  <div id=\"df-f96879c8-72cb-4d8a-a073-67a661ee2260\">\n",
              "    <div class=\"colab-df-container\">\n",
              "      <div>\n",
              "<style scoped>\n",
              "    .dataframe tbody tr th:only-of-type {\n",
              "        vertical-align: middle;\n",
              "    }\n",
              "\n",
              "    .dataframe tbody tr th {\n",
              "        vertical-align: top;\n",
              "    }\n",
              "\n",
              "    .dataframe thead th {\n",
              "        text-align: right;\n",
              "    }\n",
              "</style>\n",
              "<table border=\"1\" class=\"dataframe\">\n",
              "  <thead>\n",
              "    <tr style=\"text-align: right;\">\n",
              "      <th></th>\n",
              "      <th>Date</th>\n",
              "      <th>Open</th>\n",
              "      <th>High</th>\n",
              "      <th>Low</th>\n",
              "      <th>Close</th>\n",
              "      <th>Adj Close</th>\n",
              "      <th>Volume</th>\n",
              "    </tr>\n",
              "  </thead>\n",
              "  <tbody>\n",
              "    <tr>\n",
              "      <th>0</th>\n",
              "      <td>2019-10-18</td>\n",
              "      <td>48.577499</td>\n",
              "      <td>48.904999</td>\n",
              "      <td>46.875000</td>\n",
              "      <td>47.622501</td>\n",
              "      <td>47.435326</td>\n",
              "      <td>30744000</td>\n",
              "    </tr>\n",
              "    <tr>\n",
              "      <th>1</th>\n",
              "      <td>2019-10-21</td>\n",
              "      <td>48.240002</td>\n",
              "      <td>49.137501</td>\n",
              "      <td>48.049999</td>\n",
              "      <td>49.002499</td>\n",
              "      <td>48.809891</td>\n",
              "      <td>26186800</td>\n",
              "    </tr>\n",
              "    <tr>\n",
              "      <th>2</th>\n",
              "      <td>2019-10-22</td>\n",
              "      <td>49.575001</td>\n",
              "      <td>50.632500</td>\n",
              "      <td>48.825001</td>\n",
              "      <td>48.902500</td>\n",
              "      <td>48.710289</td>\n",
              "      <td>32872000</td>\n",
              "    </tr>\n",
              "    <tr>\n",
              "      <th>3</th>\n",
              "      <td>2019-10-23</td>\n",
              "      <td>48.077499</td>\n",
              "      <td>48.915001</td>\n",
              "      <td>47.757500</td>\n",
              "      <td>48.772499</td>\n",
              "      <td>48.580807</td>\n",
              "      <td>27991600</td>\n",
              "    </tr>\n",
              "    <tr>\n",
              "      <th>4</th>\n",
              "      <td>2019-10-24</td>\n",
              "      <td>49.187500</td>\n",
              "      <td>49.552502</td>\n",
              "      <td>48.845001</td>\n",
              "      <td>49.215000</td>\n",
              "      <td>49.021557</td>\n",
              "      <td>23202000</td>\n",
              "    </tr>\n",
              "  </tbody>\n",
              "</table>\n",
              "</div>\n",
              "      <button class=\"colab-df-convert\" onclick=\"convertToInteractive('df-f96879c8-72cb-4d8a-a073-67a661ee2260')\"\n",
              "              title=\"Convert this dataframe to an interactive table.\"\n",
              "              style=\"display:none;\">\n",
              "        \n",
              "  <svg xmlns=\"http://www.w3.org/2000/svg\" height=\"24px\"viewBox=\"0 0 24 24\"\n",
              "       width=\"24px\">\n",
              "    <path d=\"M0 0h24v24H0V0z\" fill=\"none\"/>\n",
              "    <path d=\"M18.56 5.44l.94 2.06.94-2.06 2.06-.94-2.06-.94-.94-2.06-.94 2.06-2.06.94zm-11 1L8.5 8.5l.94-2.06 2.06-.94-2.06-.94L8.5 2.5l-.94 2.06-2.06.94zm10 10l.94 2.06.94-2.06 2.06-.94-2.06-.94-.94-2.06-.94 2.06-2.06.94z\"/><path d=\"M17.41 7.96l-1.37-1.37c-.4-.4-.92-.59-1.43-.59-.52 0-1.04.2-1.43.59L10.3 9.45l-7.72 7.72c-.78.78-.78 2.05 0 2.83L4 21.41c.39.39.9.59 1.41.59.51 0 1.02-.2 1.41-.59l7.78-7.78 2.81-2.81c.8-.78.8-2.07 0-2.86zM5.41 20L4 18.59l7.72-7.72 1.47 1.35L5.41 20z\"/>\n",
              "  </svg>\n",
              "      </button>\n",
              "      \n",
              "  <style>\n",
              "    .colab-df-container {\n",
              "      display:flex;\n",
              "      flex-wrap:wrap;\n",
              "      gap: 12px;\n",
              "    }\n",
              "\n",
              "    .colab-df-convert {\n",
              "      background-color: #E8F0FE;\n",
              "      border: none;\n",
              "      border-radius: 50%;\n",
              "      cursor: pointer;\n",
              "      display: none;\n",
              "      fill: #1967D2;\n",
              "      height: 32px;\n",
              "      padding: 0 0 0 0;\n",
              "      width: 32px;\n",
              "    }\n",
              "\n",
              "    .colab-df-convert:hover {\n",
              "      background-color: #E2EBFA;\n",
              "      box-shadow: 0px 1px 2px rgba(60, 64, 67, 0.3), 0px 1px 3px 1px rgba(60, 64, 67, 0.15);\n",
              "      fill: #174EA6;\n",
              "    }\n",
              "\n",
              "    [theme=dark] .colab-df-convert {\n",
              "      background-color: #3B4455;\n",
              "      fill: #D2E3FC;\n",
              "    }\n",
              "\n",
              "    [theme=dark] .colab-df-convert:hover {\n",
              "      background-color: #434B5C;\n",
              "      box-shadow: 0px 1px 3px 1px rgba(0, 0, 0, 0.15);\n",
              "      filter: drop-shadow(0px 1px 2px rgba(0, 0, 0, 0.3));\n",
              "      fill: #FFFFFF;\n",
              "    }\n",
              "  </style>\n",
              "\n",
              "      <script>\n",
              "        const buttonEl =\n",
              "          document.querySelector('#df-f96879c8-72cb-4d8a-a073-67a661ee2260 button.colab-df-convert');\n",
              "        buttonEl.style.display =\n",
              "          google.colab.kernel.accessAllowed ? 'block' : 'none';\n",
              "\n",
              "        async function convertToInteractive(key) {\n",
              "          const element = document.querySelector('#df-f96879c8-72cb-4d8a-a073-67a661ee2260');\n",
              "          const dataTable =\n",
              "            await google.colab.kernel.invokeFunction('convertToInteractive',\n",
              "                                                     [key], {});\n",
              "          if (!dataTable) return;\n",
              "\n",
              "          const docLinkHtml = 'Like what you see? Visit the ' +\n",
              "            '<a target=\"_blank\" href=https://colab.research.google.com/notebooks/data_table.ipynb>data table notebook</a>'\n",
              "            + ' to learn more about interactive tables.';\n",
              "          element.innerHTML = '';\n",
              "          dataTable['output_type'] = 'display_data';\n",
              "          await google.colab.output.renderOutput(dataTable, element);\n",
              "          const docLink = document.createElement('div');\n",
              "          docLink.innerHTML = docLinkHtml;\n",
              "          element.appendChild(docLink);\n",
              "        }\n",
              "      </script>\n",
              "    </div>\n",
              "  </div>\n",
              "  "
            ]
          },
          "metadata": {},
          "execution_count": 34
        }
      ]
    },
    {
      "cell_type": "code",
      "source": [
        "#setting date as index for time series predicting\n",
        "NVDA_df[\"Date\"] = NVDA_df[\"Date\"].astype(\"datetime64\")\n",
        "NVDA_df = NVDA_df.set_index(\"Date\")"
      ],
      "metadata": {
        "id": "_7ru2tHjdwyk"
      },
      "execution_count": 35,
      "outputs": []
    },
    {
      "cell_type": "code",
      "source": [
        "NVDA_df.tail()"
      ],
      "metadata": {
        "colab": {
          "base_uri": "https://localhost:8080/",
          "height": 238
        },
        "id": "QOrKaYsRiSQv",
        "outputId": "55cc1c8d-75d6-421d-cc5e-a7874c1f0a18"
      },
      "execution_count": 36,
      "outputs": [
        {
          "output_type": "execute_result",
          "data": {
            "text/plain": [
              "                  Open        High         Low       Close   Adj Close  \\\n",
              "Date                                                                     \n",
              "2022-10-17  115.180000  119.480003  115.169998  118.879997  118.879997   \n",
              "2022-10-18  123.440002  124.919998  116.180000  119.669998  119.669998   \n",
              "2022-10-19  118.790001  123.500000  118.339996  120.510002  120.510002   \n",
              "2022-10-20  121.129997  127.690002  121.050003  121.940002  121.940002   \n",
              "2022-10-21  120.980003  124.980003  118.870003  124.660004  124.660004   \n",
              "\n",
              "              Volume  \n",
              "Date                  \n",
              "2022-10-17  58077400  \n",
              "2022-10-18  65936200  \n",
              "2022-10-19  52313100  \n",
              "2022-10-20  65239800  \n",
              "2022-10-21  60893800  "
            ],
            "text/html": [
              "\n",
              "  <div id=\"df-6294a3c2-9452-4e21-a1ff-21c8142c4bcb\">\n",
              "    <div class=\"colab-df-container\">\n",
              "      <div>\n",
              "<style scoped>\n",
              "    .dataframe tbody tr th:only-of-type {\n",
              "        vertical-align: middle;\n",
              "    }\n",
              "\n",
              "    .dataframe tbody tr th {\n",
              "        vertical-align: top;\n",
              "    }\n",
              "\n",
              "    .dataframe thead th {\n",
              "        text-align: right;\n",
              "    }\n",
              "</style>\n",
              "<table border=\"1\" class=\"dataframe\">\n",
              "  <thead>\n",
              "    <tr style=\"text-align: right;\">\n",
              "      <th></th>\n",
              "      <th>Open</th>\n",
              "      <th>High</th>\n",
              "      <th>Low</th>\n",
              "      <th>Close</th>\n",
              "      <th>Adj Close</th>\n",
              "      <th>Volume</th>\n",
              "    </tr>\n",
              "    <tr>\n",
              "      <th>Date</th>\n",
              "      <th></th>\n",
              "      <th></th>\n",
              "      <th></th>\n",
              "      <th></th>\n",
              "      <th></th>\n",
              "      <th></th>\n",
              "    </tr>\n",
              "  </thead>\n",
              "  <tbody>\n",
              "    <tr>\n",
              "      <th>2022-10-17</th>\n",
              "      <td>115.180000</td>\n",
              "      <td>119.480003</td>\n",
              "      <td>115.169998</td>\n",
              "      <td>118.879997</td>\n",
              "      <td>118.879997</td>\n",
              "      <td>58077400</td>\n",
              "    </tr>\n",
              "    <tr>\n",
              "      <th>2022-10-18</th>\n",
              "      <td>123.440002</td>\n",
              "      <td>124.919998</td>\n",
              "      <td>116.180000</td>\n",
              "      <td>119.669998</td>\n",
              "      <td>119.669998</td>\n",
              "      <td>65936200</td>\n",
              "    </tr>\n",
              "    <tr>\n",
              "      <th>2022-10-19</th>\n",
              "      <td>118.790001</td>\n",
              "      <td>123.500000</td>\n",
              "      <td>118.339996</td>\n",
              "      <td>120.510002</td>\n",
              "      <td>120.510002</td>\n",
              "      <td>52313100</td>\n",
              "    </tr>\n",
              "    <tr>\n",
              "      <th>2022-10-20</th>\n",
              "      <td>121.129997</td>\n",
              "      <td>127.690002</td>\n",
              "      <td>121.050003</td>\n",
              "      <td>121.940002</td>\n",
              "      <td>121.940002</td>\n",
              "      <td>65239800</td>\n",
              "    </tr>\n",
              "    <tr>\n",
              "      <th>2022-10-21</th>\n",
              "      <td>120.980003</td>\n",
              "      <td>124.980003</td>\n",
              "      <td>118.870003</td>\n",
              "      <td>124.660004</td>\n",
              "      <td>124.660004</td>\n",
              "      <td>60893800</td>\n",
              "    </tr>\n",
              "  </tbody>\n",
              "</table>\n",
              "</div>\n",
              "      <button class=\"colab-df-convert\" onclick=\"convertToInteractive('df-6294a3c2-9452-4e21-a1ff-21c8142c4bcb')\"\n",
              "              title=\"Convert this dataframe to an interactive table.\"\n",
              "              style=\"display:none;\">\n",
              "        \n",
              "  <svg xmlns=\"http://www.w3.org/2000/svg\" height=\"24px\"viewBox=\"0 0 24 24\"\n",
              "       width=\"24px\">\n",
              "    <path d=\"M0 0h24v24H0V0z\" fill=\"none\"/>\n",
              "    <path d=\"M18.56 5.44l.94 2.06.94-2.06 2.06-.94-2.06-.94-.94-2.06-.94 2.06-2.06.94zm-11 1L8.5 8.5l.94-2.06 2.06-.94-2.06-.94L8.5 2.5l-.94 2.06-2.06.94zm10 10l.94 2.06.94-2.06 2.06-.94-2.06-.94-.94-2.06-.94 2.06-2.06.94z\"/><path d=\"M17.41 7.96l-1.37-1.37c-.4-.4-.92-.59-1.43-.59-.52 0-1.04.2-1.43.59L10.3 9.45l-7.72 7.72c-.78.78-.78 2.05 0 2.83L4 21.41c.39.39.9.59 1.41.59.51 0 1.02-.2 1.41-.59l7.78-7.78 2.81-2.81c.8-.78.8-2.07 0-2.86zM5.41 20L4 18.59l7.72-7.72 1.47 1.35L5.41 20z\"/>\n",
              "  </svg>\n",
              "      </button>\n",
              "      \n",
              "  <style>\n",
              "    .colab-df-container {\n",
              "      display:flex;\n",
              "      flex-wrap:wrap;\n",
              "      gap: 12px;\n",
              "    }\n",
              "\n",
              "    .colab-df-convert {\n",
              "      background-color: #E8F0FE;\n",
              "      border: none;\n",
              "      border-radius: 50%;\n",
              "      cursor: pointer;\n",
              "      display: none;\n",
              "      fill: #1967D2;\n",
              "      height: 32px;\n",
              "      padding: 0 0 0 0;\n",
              "      width: 32px;\n",
              "    }\n",
              "\n",
              "    .colab-df-convert:hover {\n",
              "      background-color: #E2EBFA;\n",
              "      box-shadow: 0px 1px 2px rgba(60, 64, 67, 0.3), 0px 1px 3px 1px rgba(60, 64, 67, 0.15);\n",
              "      fill: #174EA6;\n",
              "    }\n",
              "\n",
              "    [theme=dark] .colab-df-convert {\n",
              "      background-color: #3B4455;\n",
              "      fill: #D2E3FC;\n",
              "    }\n",
              "\n",
              "    [theme=dark] .colab-df-convert:hover {\n",
              "      background-color: #434B5C;\n",
              "      box-shadow: 0px 1px 3px 1px rgba(0, 0, 0, 0.15);\n",
              "      filter: drop-shadow(0px 1px 2px rgba(0, 0, 0, 0.3));\n",
              "      fill: #FFFFFF;\n",
              "    }\n",
              "  </style>\n",
              "\n",
              "      <script>\n",
              "        const buttonEl =\n",
              "          document.querySelector('#df-6294a3c2-9452-4e21-a1ff-21c8142c4bcb button.colab-df-convert');\n",
              "        buttonEl.style.display =\n",
              "          google.colab.kernel.accessAllowed ? 'block' : 'none';\n",
              "\n",
              "        async function convertToInteractive(key) {\n",
              "          const element = document.querySelector('#df-6294a3c2-9452-4e21-a1ff-21c8142c4bcb');\n",
              "          const dataTable =\n",
              "            await google.colab.kernel.invokeFunction('convertToInteractive',\n",
              "                                                     [key], {});\n",
              "          if (!dataTable) return;\n",
              "\n",
              "          const docLinkHtml = 'Like what you see? Visit the ' +\n",
              "            '<a target=\"_blank\" href=https://colab.research.google.com/notebooks/data_table.ipynb>data table notebook</a>'\n",
              "            + ' to learn more about interactive tables.';\n",
              "          element.innerHTML = '';\n",
              "          dataTable['output_type'] = 'display_data';\n",
              "          await google.colab.output.renderOutput(dataTable, element);\n",
              "          const docLink = document.createElement('div');\n",
              "          docLink.innerHTML = docLinkHtml;\n",
              "          element.appendChild(docLink);\n",
              "        }\n",
              "      </script>\n",
              "    </div>\n",
              "  </div>\n",
              "  "
            ]
          },
          "metadata": {},
          "execution_count": 36
        }
      ]
    },
    {
      "cell_type": "code",
      "source": [
        "plt.plot(NVDA_df[\"Close\"])"
      ],
      "metadata": {
        "colab": {
          "base_uri": "https://localhost:8080/",
          "height": 282
        },
        "id": "Vq-mQ7c4fV84",
        "outputId": "a9718ea9-cdfc-4e51-8814-51c671fd2c10"
      },
      "execution_count": 37,
      "outputs": [
        {
          "output_type": "execute_result",
          "data": {
            "text/plain": [
              "[<matplotlib.lines.Line2D at 0x7fa41f0b3110>]"
            ]
          },
          "metadata": {},
          "execution_count": 37
        },
        {
          "output_type": "display_data",
          "data": {
            "text/plain": [
              "<Figure size 432x288 with 1 Axes>"
            ],
            "image/png": "[encoded data removed]"
          },
          "metadata": {
            "needs_background": "light"
          }
        }
      ]
    },
    {
      "cell_type": "code",
      "source": [
        "#selecting close as thats the only col we are interested in\n",
        "data = NVDA_df[['Close']]\n",
        "dataset = data.values"
      ],
      "metadata": {
        "id": "xZX9MB01fxHE"
      },
      "execution_count": 38,
      "outputs": []
    },
    {
      "cell_type": "code",
      "source": [
        "#scaler to scale values of close data (to help LSTM model converge faster)\n",
        "scaler = MinMaxScaler(feature_range=(0,1))"
      ],
      "metadata": {
        "id": "jx_WE8b9fuUZ"
      },
      "execution_count": 39,
      "outputs": []
    },
    {
      "cell_type": "code",
      "source": [
        "scaled_data = scaler.fit_transform(dataset)"
      ],
      "metadata": {
        "id": "JGeEmtTxiy8q"
      },
      "execution_count": 40,
      "outputs": []
    },
    {
      "cell_type": "code",
      "source": [
        "#training lstm on partial dataset\n",
        "train_data = scaled_data[:680, :]"
      ],
      "metadata": {
        "id": "qFzDFd1ekBb5"
      },
      "execution_count": 41,
      "outputs": []
    },
    {
      "cell_type": "code",
      "source": [
        "len(data)"
      ],
      "metadata": {
        "colab": {
          "base_uri": "https://localhost:8080/"
        },
        "id": "K4AZlDigoMHJ",
        "outputId": "68e225cb-a448-440f-b091-2daa231442ba"
      },
      "execution_count": 42,
      "outputs": [
        {
          "output_type": "execute_result",
          "data": {
            "text/plain": [
              "759"
            ]
          },
          "metadata": {},
          "execution_count": 42
        }
      ]
    },
    {
      "cell_type": "code",
      "source": [
        "#every set of 60 x values has 1 corresponding y value for the last day, this allows LSTM to look at last 60 days and predict the next day\n",
        "x_train = []\n",
        "y_train = []\n",
        "\n",
        "for i in range(60, len(train_data)):\n",
        "    x_train.append(train_data[i-60:i, 0])\n",
        "    y_train.append(train_data[i, 0])"
      ],
      "metadata": {
        "id": "PpaUaAN3jgpv"
      },
      "execution_count": 43,
      "outputs": []
    },
    {
      "cell_type": "code",
      "source": [
        "#converting lists to numpy arrays (to reshape later)\n",
        "x_train = np.array(x_train)\n",
        "y_train = np.array(y_train) "
      ],
      "metadata": {
        "id": "fOmb5u54kFyT"
      },
      "execution_count": 44,
      "outputs": []
    },
    {
      "cell_type": "code",
      "source": [
        "#reshaping for model to accept as input\n",
        "x_train = np.reshape(x_train, (x_train.shape[0], x_train.shape[1], 1))\n",
        "x_train.shape"
      ],
      "metadata": {
        "colab": {
          "base_uri": "https://localhost:8080/"
        },
        "id": "gC2c395OnBVs",
        "outputId": "0dd101d1-27d5-4aa2-949b-ea66f25c8b11"
      },
      "execution_count": 45,
      "outputs": [
        {
          "output_type": "execute_result",
          "data": {
            "text/plain": [
              "(620, 60, 1)"
            ]
          },
          "metadata": {},
          "execution_count": 45
        }
      ]
    },
    {
      "cell_type": "code",
      "source": [
        "from keras.models import Sequential\n",
        "from keras.layers import Dense, LSTM\n",
        "\n",
        "# Build the LSTM model\n",
        "model = Sequential()\n",
        "model.add(LSTM(128, return_sequences=True, input_shape=(x_train.shape[1], 1)))\n",
        "model.add(LSTM(64, return_sequences=False))\n",
        "model.add(Dense(25))\n",
        "model.add(Dense(1))\n",
        "\n",
        "model.compile(optimizer='adam', loss='mean_squared_error')"
      ],
      "metadata": {
        "id": "ca5S47wVkXsm"
      },
      "execution_count": 46,
      "outputs": []
    },
    {
      "cell_type": "code",
      "source": [
        "model.fit(x_train, y_train, batch_size=1, epochs=5)"
      ],
      "metadata": {
        "colab": {
          "base_uri": "https://localhost:8080/"
        },
        "id": "2aW2MVTWkzN-",
        "outputId": "de319c90-61f8-42d9-a4cb-2e4251a52c87"
      },
      "execution_count": 47,
      "outputs": [
        {
          "output_type": "stream",
          "name": "stdout",
          "text": [
            "Epoch 1/5\n",
            "620/620 [==============================] - 26s 37ms/step - loss: 0.0049\n",
            "Epoch 2/5\n",
            "620/620 [==============================] - 22s 35ms/step - loss: 0.0019\n",
            "Epoch 3/5\n",
            "620/620 [==============================] - 22s 35ms/step - loss: 0.0014\n",
            "Epoch 4/5\n",
            "620/620 [==============================] - 22s 36ms/step - loss: 0.0014\n",
            "Epoch 5/5\n",
            "620/620 [==============================] - 22s 36ms/step - loss: 0.0014\n"
          ]
        },
        {
          "output_type": "execute_result",
          "data": {
            "text/plain": [
              "<keras.callbacks.History at 0x7fa41ef74bd0>"
            ]
          },
          "metadata": {},
          "execution_count": 47
        }
      ]
    },
    {
      "cell_type": "code",
      "source": [
        "y_test = dataset[680:, :]\n",
        "test_data = scaled_data[680 - 60: , :]\n",
        "x_test_temp = []\n",
        "x_test_temp.append(test_data[0:60,0])\n",
        "x_test_temp = np.array(x_test_temp)\n",
        "x_test = np.reshape(x_test_temp, (x_test_temp.shape[0], x_test_temp.shape[1], 1 ))\n",
        "x_test_temp"
      ],
      "metadata": {
        "id": "n6jYpWpsnrpm",
        "colab": {
          "base_uri": "https://localhost:8080/"
        },
        "outputId": "341f3ab2-d6ff-4a11-867a-94f9b4e9ee5a"
      },
      "execution_count": 48,
      "outputs": [
        {
          "output_type": "execute_result",
          "data": {
            "text/plain": [
              "array([[0.73981037, 0.6865493 , 0.67959458, 0.64153596, 0.59952817,\n",
              "        0.58509453, 0.60952337, 0.5764973 , 0.59484512, 0.60934862,\n",
              "        0.58432572, 0.53892795, 0.5155825 , 0.5291075 , 0.49017518,\n",
              "        0.47713945, 0.52491373, 0.48175264, 0.5162116 , 0.51862303,\n",
              "        0.54420511, 0.49213227, 0.48622601, 0.42594031, 0.44848191,\n",
              "        0.41475689, 0.39885543, 0.45236117, 0.43691405, 0.4688218 ,\n",
              "        0.42552095, 0.43202132, 0.41699357, 0.42412299, 0.39812149,\n",
              "        0.42681401, 0.45742865, 0.49097897, 0.48612117, 0.47381938,\n",
              "        0.51827353, 0.48779867, 0.49010527, 0.494998  , 0.48528239,\n",
              "        0.46431345, 0.42677908, 0.38040277, 0.38700798, 0.41115722,\n",
              "        0.37879513, 0.38854571, 0.4125202 , 0.40532087, 0.40060284,\n",
              "        0.43209118, 0.42310951, 0.39211045, 0.37673319, 0.36334801]])"
            ]
          },
          "metadata": {},
          "execution_count": 48
        }
      ]
    },
    {
      "cell_type": "code",
      "source": [
        "prediction = model.predict(x_test)\n",
        "predictions = [prediction[0]]\n",
        "for i in range(len(data) - 681):\n",
        "  x_test_temp = np.append(x_test_temp[0][1:], prediction)\n",
        "  x_test_temp = np.array([x_test_temp])\n",
        "  x_test = np.reshape(x_test_temp, (x_test_temp.shape[0], x_test_temp.shape[1], 1 ))\n",
        "  prediction = model.predict(x_test, verbose=0)\n",
        "  predictions.append(prediction[0])\n",
        "print(predictions)\n",
        "\n",
        "# x_test_temp = np.append(x_test_temp[0][1:], prediction)\n",
        "# x_test = np.reshape(x_test_temp, (x_test_temp.shape[0], x_test_temp.shape[1], 1 ))\n",
        "# prediction = model.predict(x_test)\n",
        "# prediction\n",
        "# for i in range(60):\n",
        "#   x_test_temp[0][1:].append(prediction)\n",
        "#   x_test = np.reshape(x_test_temp, (x_test_temp.shape[0], x_test_temp.shape[1], 1 ))\n",
        "#   prediction = model.predict(x_test)\n",
        "# prediction = scaler.inverse_transform(prediction)"
      ],
      "metadata": {
        "colab": {
          "base_uri": "https://localhost:8080/"
        },
        "id": "zOlMmePnpIWZ",
        "outputId": "8e3d994c-59ad-47d3-b2e8-368759893b1a"
      },
      "execution_count": 49,
      "outputs": [
        {
          "output_type": "stream",
          "name": "stdout",
          "text": [
            "1/1 [==============================] - 1s 830ms/step\n",
            "[array([0.4248105], dtype=float32), array([0.4434222], dtype=float32), array([0.4713256], dtype=float32), array([0.50330657], dtype=float32), array([0.53788656], dtype=float32), array([0.57446486], dtype=float32), array([0.61273247], dtype=float32), array([0.65253365], dtype=float32), array([0.6938168], dtype=float32), array([0.7366046], dtype=float32), array([0.7809723], dtype=float32), array([0.8270295], dtype=float32), array([0.8749063], dtype=float32), array([0.9247429], dtype=float32), array([0.9766805], dtype=float32), array([1.0308565], dtype=float32), array([1.0873979], dtype=float32), array([1.1464177], dtype=float32), array([1.2080096], dtype=float32), array([1.2722422], dtype=float32), array([1.3391544], dtype=float32), array([1.4087458], dtype=float32), array([1.4809707], dtype=float32), array([1.5557269], dtype=float32), array([1.632846], dtype=float32), array([1.712084], dtype=float32), array([1.7931099], dtype=float32), array([1.8755016], dtype=float32), array([1.9587402], dtype=float32), array([2.0422153], dtype=float32), array([2.125234], dtype=float32), array([2.2070403], dtype=float32), array([2.2868426], dtype=float32), array([2.3638504], dtype=float32), array([2.4373112], dtype=float32), array([2.5065527], dtype=float32), array([2.5710208], dtype=float32), array([2.6303055], dtype=float32), array([2.6841595], dtype=float32), array([2.732501], dtype=float32), array([2.7754054], dtype=float32), array([2.8130867], dtype=float32), array([2.8458674], dtype=float32), array([2.874151], dtype=float32), array([2.8983874], dtype=float32), array([2.919047], dtype=float32), array([2.936595], dtype=float32), array([2.951472], dtype=float32), array([2.9640837], dtype=float32), array([2.9747896], dtype=float32), array([2.9839032], dtype=float32), array([2.9916904], dtype=float32), array([2.9983728], dtype=float32), array([3.0041327], dtype=float32), array([3.009119], dtype=float32), array([3.0134501], dtype=float32), array([3.0172236], dtype=float32), array([3.0205162], dtype=float32), array([3.023392], dtype=float32), array([3.0259037], dtype=float32), array([3.0280945], dtype=float32), array([3.0300035], dtype=float32), array([3.0316627], dtype=float32), array([3.0331018], dtype=float32), array([3.0343468], dtype=float32), array([3.0354214], dtype=float32), array([3.0363467], dtype=float32), array([3.0371418], dtype=float32), array([3.0378237], dtype=float32), array([3.0384085], dtype=float32), array([3.0389087], dtype=float32), array([3.039337], dtype=float32), array([3.0397036], dtype=float32), array([3.0400171], dtype=float32), array([3.040286], dtype=float32), array([3.0405164], dtype=float32), array([3.0407147], dtype=float32), array([3.0408847], dtype=float32), array([3.041031], dtype=float32)]\n"
          ]
        }
      ]
    },
    {
      "cell_type": "code",
      "source": [
        "#reverse the scaling to convert it back into actual numbers\n",
        "predictions = scaler.inverse_transform(predictions)"
      ],
      "metadata": {
        "id": "jSPWe-vCpbBH"
      },
      "execution_count": 50,
      "outputs": []
    },
    {
      "cell_type": "code",
      "source": [
        "# Plot the data to compare performance, it seems to diverge a lot\n",
        "train = data[:680]\n",
        "valid = data[680:]\n",
        "\n",
        "valid['Predictions'] = predictions\n",
        "# Visualize the data\n",
        "plt.figure(figsize=(16,6))\n",
        "plt.title('Model')\n",
        "plt.xlabel('Date', fontsize=18)\n",
        "plt.ylabel('Close Price USD ($)', fontsize=18)\n",
        "plt.plot(train['Close'])\n",
        "plt.plot(valid[['Close', 'Predictions']])\n",
        "plt.legend(['Train', 'Val', 'Predictions'], loc='lower right')\n",
        "plt.show()"
      ],
      "metadata": {
        "colab": {
          "base_uri": "https://localhost:8080/",
          "height": 516
        },
        "id": "6bBZLOw0pKNv",
        "outputId": "a8926be1-e3a7-46f9-b9ca-435f185ac7b3"
      },
      "execution_count": 51,
      "outputs": [
        {
          "output_type": "stream",
          "name": "stderr",
          "text": [
            "/usr/local/lib/python3.7/dist-packages/ipykernel_launcher.py:5: SettingWithCopyWarning: \n",
            "A value is trying to be set on a copy of a slice from a DataFrame.\n",
            "Try using .loc[row_indexer,col_indexer] = value instead\n",
            "\n",
            "See the caveats in the documentation: https://pandas.pydata.org/pandas-docs/stable/user_guide/indexing.html#returning-a-view-versus-a-copy\n",
            "  \"\"\"\n"
          ]
        },
        {
          "output_type": "display_data",
          "data": {
            "text/plain": [
              "<Figure size 1152x432 with 1 Axes>"
            ],
            "image/png": "[encoded data removed]"
          },
          "metadata": {
            "needs_background": "light"
          }
        }
      ]
    },
    {
      "cell_type": "code",
      "source": [
        "# final_preds = predictions[-6:]\n",
        "# final_preds"
      ],
      "metadata": {
        "id": "bM4VCqtcxLim"
      },
      "execution_count": 52,
      "outputs": []
    },
    {
      "cell_type": "code",
      "source": [
        "#rebuild and retrain model using full dataset\n",
        "x_final = []\n",
        "y_final = []\n",
        "\n",
        "for i in range(60, len(scaled_data)):\n",
        "    x_final.append(scaled_data[i-60:i, 0])\n",
        "    y_final.append(scaled_data[i, 0])\n",
        "\n",
        "x_final = np.array(x_final)\n",
        "y_final = np.array(y_final) #\n",
        "x_final = np.reshape(x_final, (x_final.shape[0], x_final.shape[1], 1 ))\n",
        "\n",
        "# Build the LSTM model\n",
        "model_final = Sequential()\n",
        "model_final.add(LSTM(128, return_sequences=True, input_shape= (x_train.shape[1], 1)))\n",
        "model_final.add(LSTM(64, return_sequences=False))\n",
        "model_final.add(Dense(25))\n",
        "model_final.add(Dense(1))\n",
        "\n",
        "model_final.compile(optimizer='adam', loss='mean_squared_error')\n",
        "\n",
        "model_final.fit(x_final, y_final, batch_size=1, epochs=5)"
      ],
      "metadata": {
        "id": "uil0NfsTxa1w",
        "colab": {
          "base_uri": "https://localhost:8080/"
        },
        "outputId": "84220ee1-3355-48c9-ca53-a756f9b63b73"
      },
      "execution_count": 53,
      "outputs": [
        {
          "output_type": "stream",
          "name": "stdout",
          "text": [
            "Epoch 1/5\n",
            "699/699 [==============================] - 28s 35ms/step - loss: 0.0036\n",
            "Epoch 2/5\n",
            "699/699 [==============================] - 25s 36ms/step - loss: 0.0017\n",
            "Epoch 3/5\n",
            "699/699 [==============================] - 25s 35ms/step - loss: 0.0013\n",
            "Epoch 4/5\n",
            "699/699 [==============================] - 24s 34ms/step - loss: 0.0011\n",
            "Epoch 5/5\n",
            "699/699 [==============================] - 24s 34ms/step - loss: 0.0011\n"
          ]
        },
        {
          "output_type": "execute_result",
          "data": {
            "text/plain": [
              "<keras.callbacks.History at 0x7fa41c279a90>"
            ]
          },
          "metadata": {},
          "execution_count": 53
        }
      ]
    },
    {
      "cell_type": "code",
      "source": [
        "#initializing necessary data and reshaping for model to take as input\n",
        "x_final_temp = []\n",
        "x_final_temp.append(scaled_data[-60:,0])\n",
        "x_final_temp = np.array(x_final_temp)\n",
        "x_final = np.reshape(x_final_temp, (x_final_temp.shape[0], x_final_temp.shape[1], 1 ))"
      ],
      "metadata": {
        "id": "gRvAC0mjI_P9"
      },
      "execution_count": 54,
      "outputs": []
    },
    {
      "cell_type": "code",
      "source": [
        "prediction_final = model_final.predict(x_final)\n",
        "predictions_final = [prediction_final[0]]\n",
        "for i in range(10): #total of 10 trading days from 21st (the last day before data was downloaded), end on 4th Nov our last day of interest\n",
        "  x_final_temp = np.append(x_final_temp[0][1:], prediction_final)\n",
        "  x_final_temp = np.array([x_final_temp])\n",
        "  x_final = np.reshape(x_final_temp, (x_final_temp.shape[0], x_final_temp.shape[1], 1 ))\n",
        "  prediction_final = model_final.predict(x_final, verbose=0)\n",
        "  predictions_final.append(prediction_final[0])\n",
        "print(predictions_final)\n",
        "\n",
        "predictions_final = scaler.inverse_transform(predictions_final)"
      ],
      "metadata": {
        "id": "hzXabr-tCttQ",
        "colab": {
          "base_uri": "https://localhost:8080/"
        },
        "outputId": "b39fc158-ab89-462d-8422-2bb7d3630040"
      },
      "execution_count": 55,
      "outputs": [
        {
          "output_type": "stream",
          "name": "stdout",
          "text": [
            "1/1 [==============================] - 1s 834ms/step\n",
            "[array([0.29602057], dtype=float32), array([0.31618723], dtype=float32), array([0.3386772], dtype=float32), array([0.36249405], dtype=float32), array([0.38741836], dtype=float32), array([0.4133389], dtype=float32), array([0.44018164], dtype=float32), array([0.46789506], dtype=float32), array([0.49644312], dtype=float32), array([0.52580106], dtype=float32), array([0.5559522], dtype=float32)]\n"
          ]
        }
      ]
    },
    {
      "cell_type": "code",
      "source": [
        "#final predictions, seems more reasonable\n",
        "predictions_final\n"
      ],
      "metadata": {
        "id": "2qYZzwGIGYNA",
        "colab": {
          "base_uri": "https://localhost:8080/"
        },
        "outputId": "d35edb2d-709e-4403-b7fc-4e5e30d96191"
      },
      "execution_count": 56,
      "outputs": [
        {
          "output_type": "execute_result",
          "data": {
            "text/plain": [
              "array([[132.32508877],\n",
              "       [138.09552815],\n",
              "       [144.5307507 ],\n",
              "       [151.34564591],\n",
              "       [158.47742533],\n",
              "       [165.89426411],\n",
              "       [173.57497977],\n",
              "       [181.50482816],\n",
              "       [189.67349947],\n",
              "       [198.07390728],\n",
              "       [206.70127616]])"
            ]
          },
          "metadata": {},
          "execution_count": 56
        }
      ]
    },
    {
      "cell_type": "code",
      "source": [
        "#select dates of interest\n",
        "results = predictions_final[-10:]\n",
        "dates = ['2022-10-24','2022-10-25','2022-10-26', '2022-10-27','2022-10-28', '2022-10-31', '2022-11-01', '2022-11-02', '2022-11-03', '2022-11-04' ]"
      ],
      "metadata": {
        "id": "tR7zMO6KMXvg"
      },
      "execution_count": 57,
      "outputs": []
    },
    {
      "cell_type": "code",
      "source": [
        "#save to submission df\n",
        "to_submit = pd.DataFrame(results,  columns = ['Close'])\n",
        "to_submit.rename_axis('Date', inplace=True)"
      ],
      "metadata": {
        "id": "I0gMtHdJNeDs"
      },
      "execution_count": 58,
      "outputs": []
    },
    {
      "cell_type": "code",
      "source": [
        "#write to csv\n",
        "to_submit.to_csv(\"Implementation_1.csv\")"
      ],
      "metadata": {
        "id": "45CAeaNEPjWw"
      },
      "execution_count": 59,
      "outputs": []
    }
  ]
}